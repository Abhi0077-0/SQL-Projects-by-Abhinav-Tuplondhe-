{
 "cells": [
  {
   "cell_type": "code",
   "execution_count": 47,
   "id": "35599462",
   "metadata": {},
   "outputs": [],
   "source": [
    "# Import Libraries\n",
    "\n",
    "import pandas as pd\n",
    "from bs4 import BeautifulSoup\n",
    "import requests\n",
    "import smtplib\n",
    "import time\n",
    "import datetime\n",
    "from notebook.notebookapp import NotebookApp\n",
    "NotebookApp.iopub_data_rate_limit= 1.0e10\n",
    "import re\n"
   ]
  },
  {
   "cell_type": "code",
   "execution_count": 58,
   "id": "3fc6ea51",
   "metadata": {},
   "outputs": [
    {
     "name": "stdout",
     "output_type": "stream",
     "text": [
      "[<span aria-hidden=\"false\" class=\"a-size-large a-color-price savingPriceOverride aok-align-center reinventPriceSavingsPercentageMargin savingsPercentage\">-67%</span>]\n"
     ]
    }
   ],
   "source": [
    "# Connecting to website\n",
    "\n",
    "URL = 'https://www.amazon.in/Noise-Display-Bluetooth-Calling-Stainless/dp/B0C4Q5HNMH?ref_=Oct_DLandingS_D_96e4f864_14&th=1'\n",
    "\n",
    "headers = {\"User-Agent\": \"Mozilla/5.0 (Windows NT 10.0; Win64; x64) AppleWebKit/537.36 (KHTML, like Gecko) Chrome/121.0.0.0 Safari/537.36\",\"Accept-Encoding\": \"gzip, deflate, br\", \"Accept\": \"text/html,application/xhtml+xml,application/xml;q=0.9,image/avif,image/webp,image/apng,*/*;q=0.8,application/signed-exchange;v=b3;q=0.7\",\"Upgrade-Insecure-Requests\": \"1\"}\n",
    "\n",
    "page = requests.get(URL, headers=headers)\n",
    "\n",
    "soup1 = BeautifulSoup(page.content, \"html.parser\")\n",
    "\n",
    "soup2 = BeautifulSoup(soup1.prettify(), \"html.parser\")\n",
    "\n",
    "title = soup2.find(id=\"productTitle\").get_text()\n",
    "\n",
    "price = soup1.find_all(class_=\"a-price-whole\")\n",
    "\n",
    "discount = soup1.find_all(class_=\"a-size-large a-color-price savingPriceOverride aok-align-center reinventPriceSavingsPercentageMargin savingsPercentage\")\n",
    "\n",
    "print(discount)\n",
    "\n",
    "\n",
    "\n",
    "\n",
    "\n",
    "\n"
   ]
  },
  {
   "cell_type": "code",
   "execution_count": 61,
   "id": "2d826769",
   "metadata": {},
   "outputs": [
    {
     "name": "stdout",
     "output_type": "stream",
     "text": [
      "[2999, 2999, 2999, 2999, 2999, 2999, 140, 2999, 3299, 2499, 1699, 2499, 3999, 3499, 1549, 1099]\n",
      "[67]\n"
     ]
    }
   ],
   "source": [
    "# Sorting Price and Discount\n",
    "\n",
    "price_values = []\n",
    "for item in price:\n",
    "    # Convert Tag object to string\n",
    "    item_str = str(item)\n",
    "    # Find numerical value using regex\n",
    "    match = re.search(r'\\d{1,3}(,\\d{3})*', item_str)\n",
    "    if match:\n",
    "        value = int(match.group().replace(',', ''))\n",
    "        price_values.append(value)\n",
    "\n",
    "print(price_values)\n",
    "\n",
    "discount_values = []\n",
    "for item1 in discount:\n",
    "    \n",
    "    item1_str = str(item1)\n",
    "    \n",
    "    match = re.search(r'\\d{1,3}(,.\\d{3})*', item1_str)\n",
    "    if match:\n",
    "        value = int(match.group().replace(',',''))\n",
    "        discount_values.append(value)\n",
    "\n",
    "print(discount_values)\n",
    "    \n",
    "    "
   ]
  },
  {
   "cell_type": "code",
   "execution_count": 62,
   "id": "3d85a62d",
   "metadata": {},
   "outputs": [
    {
     "name": "stdout",
     "output_type": "stream",
     "text": [
      "Noise Halo Plus 1.46\" Super AMOLED Display Elite Smart Watch, Bluetooth Calling, Stainless Steel Build, Always on Display, Upto 7 Days Battery (Elite Black)\n",
      "2999\n",
      "67\n"
     ]
    }
   ],
   "source": [
    "title = title.strip()\n",
    "price = price_values[0]\n",
    "discount = discount_values[0]\n",
    "\n",
    "print(title)\n",
    "print(price)\n",
    "print(discount)"
   ]
  },
  {
   "cell_type": "code",
   "execution_count": 18,
   "id": "63200f00",
   "metadata": {},
   "outputs": [
    {
     "name": "stdout",
     "output_type": "stream",
     "text": [
      "2024-02-08\n"
     ]
    }
   ],
   "source": [
    "import datetime\n",
    "\n",
    "today = datetime.date.today()\n",
    "\n",
    "print(today)"
   ]
  },
  {
   "cell_type": "code",
   "execution_count": 65,
   "id": "8d2f264b",
   "metadata": {},
   "outputs": [],
   "source": [
    "import csv\n",
    "\n",
    "header = ['Title','Price','Discount','Date']\n",
    "data = [title,price,discount,today]\n",
    "\n",
    "with open('AmazonWebScraperData.csv','w', newline='', encoding='UTF8') as f:\n",
    "    writer = csv.writer(f)\n",
    "    writer.writerow(header)\n",
    "    writer.writerow(data)\n",
    "    \n",
    "    "
   ]
  },
  {
   "cell_type": "code",
   "execution_count": 66,
   "id": "9912a112",
   "metadata": {},
   "outputs": [
    {
     "name": "stdout",
     "output_type": "stream",
     "text": [
      "                                               Title  Price  Discount  \\\n",
      "0  Noise Halo Plus 1.46\" Super AMOLED Display Eli...   2999        67   \n",
      "\n",
      "         Date  \n",
      "0  2024-02-08  \n"
     ]
    }
   ],
   "source": [
    "df = pd.read_csv(r\"C:\\Users\\abhin\\OneDrive\\Desktop\\Untitled Folder\\AmazonWebScraperData.csv\")\n",
    "\n",
    "print(df)"
   ]
  },
  {
   "cell_type": "code",
   "execution_count": 63,
   "id": "1395b217",
   "metadata": {},
   "outputs": [],
   "source": [
    "# Appending data to CSV\n",
    "\n",
    "with open('AmazonWebScraperData.csv','a+', newline='', encoding='UTF8') as f:\n",
    "    writer = csv.writer(f)\n",
    "    writer.writerow(data)"
   ]
  },
  {
   "cell_type": "code",
   "execution_count": 74,
   "id": "e35b562c",
   "metadata": {},
   "outputs": [],
   "source": [
    "\n",
    "def check_price():\n",
    "    # Connecting to website\n",
    "\n",
    "    URL = 'https://www.amazon.in/Noise-Display-Bluetooth-Calling-Stainless/dp/B0C4Q5HNMH?ref_=Oct_DLandingS_D_96e4f864_14&th=1'\n",
    "\n",
    "    headers = {\"User-Agent\": \"Mozilla/5.0 (Windows NT 10.0; Win64; x64) AppleWebKit/537.36 (KHTML, like Gecko) Chrome/121.0.0.0 Safari/537.36\",\"Accept-Encoding\": \"gzip, deflate, br\", \"Accept\": \"text/html,application/xhtml+xml,application/xml;q=0.9,image/avif,image/webp,image/apng,*/*;q=0.8,application/signed-exchange;v=b3;q=0.7\",\"Upgrade-Insecure-Requests\": \"1\"}\n",
    "\n",
    "    page = requests.get(URL, headers=headers)\n",
    "\n",
    "    soup1 = BeautifulSoup(page.content, \"html.parser\")\n",
    "\n",
    "    soup2 = BeautifulSoup(soup1.prettify(), \"html.parser\")\n",
    "\n",
    "    title = soup2.find(id=\"productTitle\").get_text()\n",
    "\n",
    "    price = soup1.find_all(class_=\"a-price-whole\")\n",
    "\n",
    "    discount = soup1.find_all(class_=\"a-size-large a-color-price savingPriceOverride aok-align-center reinventPriceSavingsPercentageMargin savingsPercentage\")\n",
    "    \n",
    "    # Sorting Price and Discount\n",
    "\n",
    "    price_values = []\n",
    "    for item in price:\n",
    "        # Convert Tag object to string\n",
    "        item_str = str(item)\n",
    "        # Find numerical value using regex\n",
    "        match = re.search(r'\\d{1,3}(,\\d{3})*', item_str)\n",
    "        if match:\n",
    "            value = int(match.group().replace(',', ''))\n",
    "            price_values.append(value)\n",
    "\n",
    "    discount_values = []\n",
    "    for item1 in discount:\n",
    "\n",
    "        item1_str = str(item1)\n",
    "\n",
    "        match = re.search(r'\\d{1,3}(,.\\d{3})*', item1_str)\n",
    "        if match:\n",
    "            value = int(match.group().replace(',',''))\n",
    "            discount_values.append(value)\n",
    "    \n",
    "    # Saving our data into variables\n",
    "    \n",
    "    title = title.strip()\n",
    "    price = price_values[0]\n",
    "    discount = discount_values[0]\n",
    "    \n",
    "    import datetime\n",
    "    today = datetime.date.today()\n",
    "    \n",
    "    # Creating CSV to save our data\n",
    "    \n",
    "    import csv\n",
    "\n",
    "    header = ['Title','Price','Discount','Date']\n",
    "    data = [title,price,discount,today]\n",
    "\n",
    "    with open('AmazonWebScraperData.csv','a+', newline='', encoding='UTF8') as f:\n",
    "        writer = csv.writer(f)\n",
    "        writer.writerow(data)\n"
   ]
  },
  {
   "cell_type": "code",
   "execution_count": 75,
   "id": "acc77479",
   "metadata": {},
   "outputs": [
    {
     "ename": "KeyboardInterrupt",
     "evalue": "",
     "output_type": "error",
     "traceback": [
      "\u001b[1;31m---------------------------------------------------------------------------\u001b[0m",
      "\u001b[1;31mKeyboardInterrupt\u001b[0m                         Traceback (most recent call last)",
      "Cell \u001b[1;32mIn[75], line 3\u001b[0m\n\u001b[0;32m      1\u001b[0m \u001b[38;5;28;01mwhile\u001b[39;00m(\u001b[38;5;28;01mTrue\u001b[39;00m):\n\u001b[0;32m      2\u001b[0m     check_price()\n\u001b[1;32m----> 3\u001b[0m     \u001b[43mtime\u001b[49m\u001b[38;5;241;43m.\u001b[39;49m\u001b[43msleep\u001b[49m\u001b[43m(\u001b[49m\u001b[38;5;241;43m5\u001b[39;49m\u001b[43m)\u001b[49m\n",
      "\u001b[1;31mKeyboardInterrupt\u001b[0m: "
     ]
    }
   ],
   "source": [
    "while(True):\n",
    "    check_price()\n",
    "    time.sleep(86400)"
   ]
  },
  {
   "cell_type": "code",
   "execution_count": 76,
   "id": "9d3532b2",
   "metadata": {},
   "outputs": [
    {
     "name": "stdout",
     "output_type": "stream",
     "text": [
      "                                               Title  Price  Discount  \\\n",
      "0  Noise Halo Plus 1.46\" Super AMOLED Display Eli...   2999        67   \n",
      "1  Noise Halo Plus 1.46\" Super AMOLED Display Eli...   2999        67   \n",
      "2  Noise Halo Plus 1.46\" Super AMOLED Display Eli...   2999        67   \n",
      "3  Noise Halo Plus 1.46\" Super AMOLED Display Eli...   2999        67   \n",
      "4  Noise Halo Plus 1.46\" Super AMOLED Display Eli...   2999        67   \n",
      "5  Noise Halo Plus 1.46\" Super AMOLED Display Eli...   2999        67   \n",
      "\n",
      "         Date  \n",
      "0  2024-02-08  \n",
      "1  2024-02-08  \n",
      "2  2024-02-08  \n",
      "3  2024-02-08  \n",
      "4  2024-02-08  \n",
      "5  2024-02-08  \n"
     ]
    }
   ],
   "source": [
    "df = pd.read_csv(r\"C:\\Users\\abhin\\OneDrive\\Desktop\\Untitled Folder\\AmazonWebScraperData.csv\")\n",
    "\n",
    "print(df)"
   ]
  },
  {
   "cell_type": "code",
   "execution_count": null,
   "id": "7840e3f1",
   "metadata": {},
   "outputs": [],
   "source": []
  }
 ],
 "metadata": {
  "kernelspec": {
   "display_name": "Python 3 (ipykernel)",
   "language": "python",
   "name": "python3"
  },
  "language_info": {
   "codemirror_mode": {
    "name": "ipython",
    "version": 3
   },
   "file_extension": ".py",
   "mimetype": "text/x-python",
   "name": "python",
   "nbconvert_exporter": "python",
   "pygments_lexer": "ipython3",
   "version": "3.11.5"
  }
 },
 "nbformat": 4,
 "nbformat_minor": 5
}
